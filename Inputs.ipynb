{
  "nbformat": 4,
  "nbformat_minor": 0,
  "metadata": {
    "colab": {
      "name": "Inputs.ipynb",
      "provenance": [],
      "collapsed_sections": [],
      "authorship_tag": "ABX9TyPnduBmpkTUV0YZpRafyBBz",
      "include_colab_link": true
    },
    "kernelspec": {
      "name": "python3",
      "display_name": "Python 3"
    },
    "language_info": {
      "name": "python"
    }
  },
  "cells": [
    {
      "cell_type": "markdown",
      "metadata": {
        "id": "view-in-github",
        "colab_type": "text"
      },
      "source": [
        "<a href=\"https://colab.research.google.com/github/helenksouza/Oficina1_Python/blob/main/Inputs.ipynb\" target=\"_parent\"><img src=\"https://colab.research.google.com/assets/colab-badge.svg\" alt=\"Open In Colab\"/></a>"
      ]
    },
    {
      "cell_type": "markdown",
      "source": [
        "*Input = Entrada*\n",
        "\n",
        "Quando estamos programando, precisamos fazer com que o computador receba nossos dados. Por exemplo, a  leitura de um nome. Veja abaixo!"
      ],
      "metadata": {
        "id": "0Cspp0OclqHI"
      }
    },
    {
      "cell_type": "code",
      "execution_count": null,
      "metadata": {
        "colab": {
          "base_uri": "https://localhost:8080/"
        },
        "id": "2Q5VcgZsk7EM",
        "outputId": "ff9ff392-c099-46b8-bdd8-7a3383ad9410"
      },
      "outputs": [
        {
          "name": "stdout",
          "output_type": "stream",
          "text": [
            "Qual é  o seu nome?\n",
            "Helen\n"
          ]
        }
      ],
      "source": [
        "print('Qual é  o seu nome?')\n",
        "nome = input()"
      ]
    },
    {
      "cell_type": "code",
      "source": [
        "print(nome)"
      ],
      "metadata": {
        "colab": {
          "base_uri": "https://localhost:8080/"
        },
        "id": "94BVv9LxlgCs",
        "outputId": "c46179ad-b52a-4cab-ca4f-d5e2a690e24d"
      },
      "execution_count": null,
      "outputs": [
        {
          "output_type": "stream",
          "name": "stdout",
          "text": [
            "Helen\n"
          ]
        }
      ]
    },
    {
      "cell_type": "code",
      "source": [
        "idade = input('Insira sua idade: ')\n",
        "print(idade)"
      ],
      "metadata": {
        "colab": {
          "base_uri": "https://localhost:8080/"
        },
        "id": "MNekgyLkmGXt",
        "outputId": "584750f6-b3d7-4de8-ee61-14b19848ea8b"
      },
      "execution_count": null,
      "outputs": [
        {
          "output_type": "stream",
          "name": "stdout",
          "text": [
            "Insira sua idade: 45\n",
            "45\n"
          ]
        }
      ]
    },
    {
      "cell_type": "markdown",
      "source": [
        "## Formatando o print"
      ],
      "metadata": {
        "id": "f_K1jmNcoca4"
      }
    },
    {
      "cell_type": "markdown",
      "source": [
        "\n",
        "> Atenção:\n",
        "\n",
        " Nós começamos a contar do 1. Contamos assim: 1,2,3...\n",
        " \n",
        " No python, inicia a contagem em zero, então é 0,1,2,3...\n",
        "\n",
        "**Guarde esta informação, pois ela é muito importante.**\n"
      ],
      "metadata": {
        "id": "mBRA_UNXof5K"
      }
    },
    {
      "cell_type": "code",
      "source": [
        "print('Qual é  o seu nome?')\n",
        "nome = input()\n",
        "\n",
        "print('Qual é  a sua idade?')\n",
        "idade = input()\n",
        "\n",
        "print('{0} tem {1} anos'.format(nome, idade))"
      ],
      "metadata": {
        "colab": {
          "base_uri": "https://localhost:8080/"
        },
        "id": "MRoPXWShmmaM",
        "outputId": "ab96a510-d2fd-488e-ee06-f100e1625841"
      },
      "execution_count": null,
      "outputs": [
        {
          "output_type": "stream",
          "name": "stdout",
          "text": [
            "Qual é  o seu nome?\n",
            "José\n",
            "Qual é  a sua idade?\n",
            "45\n",
            "José tem 45 anos\n"
          ]
        }
      ]
    },
    {
      "cell_type": "code",
      "source": [
        "print('Qual é  o seu nome?')\n",
        "nome = input()\n",
        "\n",
        "print('Qual é  a sua idade?')\n",
        "idade = input()\n",
        "\n",
        "print(f'{nome} tem {idade} anos')"
      ],
      "metadata": {
        "colab": {
          "base_uri": "https://localhost:8080/"
        },
        "id": "RcIzjMdymYvX",
        "outputId": "c63438ae-cae3-4663-ae7d-195ce4ee2c52"
      },
      "execution_count": null,
      "outputs": [
        {
          "output_type": "stream",
          "name": "stdout",
          "text": [
            "Qual é  o seu nome?\n",
            "José\n",
            "Qual é  a sua idade?\n",
            "20\n",
            "José tem 20 anos\n"
          ]
        }
      ]
    },
    {
      "cell_type": "code",
      "source": [
        "type(nome)"
      ],
      "metadata": {
        "colab": {
          "base_uri": "https://localhost:8080/"
        },
        "id": "qRWO4kfRqssw",
        "outputId": "41189890-d57c-4ba8-8a3c-e7c0da84ce04"
      },
      "execution_count": null,
      "outputs": [
        {
          "output_type": "execute_result",
          "data": {
            "text/plain": [
              "str"
            ]
          },
          "metadata": {},
          "execution_count": 12
        }
      ]
    },
    {
      "cell_type": "code",
      "source": [
        "type(idade)"
      ],
      "metadata": {
        "colab": {
          "base_uri": "https://localhost:8080/"
        },
        "id": "NNHCLFuYqxpD",
        "outputId": "cc04c71e-339e-4948-bb67-2120b137ea8d"
      },
      "execution_count": null,
      "outputs": [
        {
          "output_type": "execute_result",
          "data": {
            "text/plain": [
              "str"
            ]
          },
          "metadata": {},
          "execution_count": 13
        }
      ]
    },
    {
      "cell_type": "markdown",
      "source": [
        "# Tipos de dados"
      ],
      "metadata": {
        "id": "EjUJOgNJqbMv"
      }
    },
    {
      "cell_type": "markdown",
      "source": [
        "![image.png](data:image/png;base64,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)"
      ],
      "metadata": {
        "id": "6TvOa4Tpqmlp"
      }
    },
    {
      "cell_type": "code",
      "source": [
        " a = '10'\n",
        " b= 2\n",
        "\n",
        " print(a*b)"
      ],
      "metadata": {
        "colab": {
          "base_uri": "https://localhost:8080/"
        },
        "id": "1pTYgGImp3LW",
        "outputId": "ff18d8b7-65e9-4255-aa90-998e88c233fa"
      },
      "execution_count": null,
      "outputs": [
        {
          "output_type": "stream",
          "name": "stdout",
          "text": [
            "1010\n"
          ]
        }
      ]
    },
    {
      "cell_type": "markdown",
      "source": [
        "\n",
        "\n",
        "> Todo dado recebido via input é uma string. E todo dado entre aspas é uma string.\n",
        "\n"
      ],
      "metadata": {
        "id": "3LUPiNTtrRiA"
      }
    },
    {
      "cell_type": "markdown",
      "source": [
        "*Cast* é a conversão de um tipo de dado para outro."
      ],
      "metadata": {
        "id": "qS2IMM5grBJg"
      }
    },
    {
      "cell_type": "code",
      "source": [
        "print('Qual é  o seu nome?')\n",
        "nome = input()\n",
        "\n",
        "print('Qual é  a sua idade?')\n",
        "idade = int(input())\n",
        "\n",
        "print(f'{nome} tem {idade5} anos')"
      ],
      "metadata": {
        "colab": {
          "base_uri": "https://localhost:8080/"
        },
        "id": "401SpY1iq6b2",
        "outputId": "ef61034b-5445-479e-835e-3984c036a41e"
      },
      "execution_count": null,
      "outputs": [
        {
          "output_type": "stream",
          "name": "stdout",
          "text": [
            "Qual é  o seu nome?\n",
            "Ana\n",
            "Qual é  a sua idade?\n",
            "5\n",
            "Ana tem 5 anos\n"
          ]
        }
      ]
    },
    {
      "cell_type": "code",
      "source": [
        "type(idade)"
      ],
      "metadata": {
        "colab": {
          "base_uri": "https://localhost:8080/"
        },
        "id": "rUVNSQFsrZzt",
        "outputId": "dba0f4c0-08b4-4a6f-a76f-57315f5d4d33"
      },
      "execution_count": null,
      "outputs": [
        {
          "output_type": "execute_result",
          "data": {
            "text/plain": [
              "int"
            ]
          },
          "metadata": {},
          "execution_count": 21
        }
      ]
    },
    {
      "cell_type": "markdown",
      "source": [
        "Tipo float:\n",
        "* real, decimal\n",
        "> As casas decimais são separadas por pontos e não vírgulas"
      ],
      "metadata": {
        "id": "MDDg8K-Q3gUE"
      }
    },
    {
      "cell_type": "code",
      "source": [
        "valor = 1,44\n",
        "print(valor)\n",
        "print(type(valor))"
      ],
      "metadata": {
        "colab": {
          "base_uri": "https://localhost:8080/"
        },
        "id": "7AQxi9iV372R",
        "outputId": "6c5c19cc-3816-42f2-8661-ed0ef6265efd"
      },
      "execution_count": null,
      "outputs": [
        {
          "output_type": "stream",
          "name": "stdout",
          "text": [
            "(1, 44)\n",
            "<class 'tuple'>\n"
          ]
        }
      ]
    },
    {
      "cell_type": "code",
      "source": [
        "valor1 = 1.44\n",
        "print(valor1)\n",
        "print(type(valor))"
      ],
      "metadata": {
        "colab": {
          "base_uri": "https://localhost:8080/"
        },
        "id": "On9lSkPI4GdY",
        "outputId": "db3363ab-d2c8-46fa-e7c4-d97925909981"
      },
      "execution_count": null,
      "outputs": [
        {
          "output_type": "stream",
          "name": "stdout",
          "text": [
            "1.44\n",
            "<class 'tuple'>\n"
          ]
        }
      ]
    },
    {
      "cell_type": "code",
      "source": [
        "valor1, valor2 = 1, 44\n",
        "print(valor1)\n",
        "print(valor2)"
      ],
      "metadata": {
        "colab": {
          "base_uri": "https://localhost:8080/"
        },
        "id": "NByTQ1n24rOL",
        "outputId": "f0e899c2-4e9e-439c-848c-a5271235b25f"
      },
      "execution_count": null,
      "outputs": [
        {
          "output_type": "stream",
          "name": "stdout",
          "text": [
            "1\n",
            "44\n"
          ]
        }
      ]
    },
    {
      "cell_type": "markdown",
      "source": [
        "## Operações"
      ],
      "metadata": {
        "id": "xoIBsGd1uuph"
      }
    },
    {
      "cell_type": "code",
      "source": [
        "5/2 #real: pontos flutuantes"
      ],
      "metadata": {
        "colab": {
          "base_uri": "https://localhost:8080/"
        },
        "id": "RGsejAHus1GV",
        "outputId": "bced9573-1f48-40ac-d9ef-c6b74d37f339"
      },
      "execution_count": null,
      "outputs": [
        {
          "output_type": "execute_result",
          "data": {
            "text/plain": [
              "2.5"
            ]
          },
          "metadata": {},
          "execution_count": 26
        }
      ]
    },
    {
      "cell_type": "code",
      "source": [
        "int(5/2) #inteiro"
      ],
      "metadata": {
        "colab": {
          "base_uri": "https://localhost:8080/"
        },
        "id": "tX4JcEqLuUcE",
        "outputId": "e5c1c5ff-282a-41ad-8846-2e8422a7f209"
      },
      "execution_count": null,
      "outputs": [
        {
          "output_type": "execute_result",
          "data": {
            "text/plain": [
              "2"
            ]
          },
          "metadata": {},
          "execution_count": 27
        }
      ]
    },
    {
      "cell_type": "code",
      "source": [
        "5//2"
      ],
      "metadata": {
        "colab": {
          "base_uri": "https://localhost:8080/"
        },
        "id": "lQK0R3itug_p",
        "outputId": "b231e5bc-00ad-4e38-8e0e-365ed7fd1d12"
      },
      "execution_count": null,
      "outputs": [
        {
          "output_type": "execute_result",
          "data": {
            "text/plain": [
              "2"
            ]
          },
          "metadata": {},
          "execution_count": 28
        }
      ]
    },
    {
      "cell_type": "code",
      "source": [
        "5%2 #resto"
      ],
      "metadata": {
        "colab": {
          "base_uri": "https://localhost:8080/"
        },
        "id": "PKDanZtbus_R",
        "outputId": "59a43e4a-87ec-45d5-c83d-902d9f1d093d"
      },
      "execution_count": null,
      "outputs": [
        {
          "output_type": "execute_result",
          "data": {
            "text/plain": [
              "1"
            ]
          },
          "metadata": {},
          "execution_count": 29
        }
      ]
    },
    {
      "cell_type": "code",
      "source": [
        "3**3"
      ],
      "metadata": {
        "colab": {
          "base_uri": "https://localhost:8080/"
        },
        "id": "qSK82ghOvRU_",
        "outputId": "9a15e345-eb2d-4c25-8e59-1ebc5dd67a06"
      },
      "execution_count": null,
      "outputs": [
        {
          "output_type": "execute_result",
          "data": {
            "text/plain": [
              "27"
            ]
          },
          "metadata": {},
          "execution_count": 30
        }
      ]
    },
    {
      "cell_type": "code",
      "source": [
        "3*3"
      ],
      "metadata": {
        "colab": {
          "base_uri": "https://localhost:8080/"
        },
        "id": "54DwjN6tvZyj",
        "outputId": "9ed70e7a-6fe7-48b2-e8bc-0432fe519127"
      },
      "execution_count": null,
      "outputs": [
        {
          "output_type": "execute_result",
          "data": {
            "text/plain": [
              "9"
            ]
          },
          "metadata": {},
          "execution_count": 31
        }
      ]
    },
    {
      "cell_type": "code",
      "source": [
        "1_000_000"
      ],
      "metadata": {
        "colab": {
          "base_uri": "https://localhost:8080/"
        },
        "id": "vIu-dY0HvbA6",
        "outputId": "9469df6c-0554-40a4-b24c-024c3cf04477"
      },
      "execution_count": null,
      "outputs": [
        {
          "output_type": "execute_result",
          "data": {
            "text/plain": [
              "1000000"
            ]
          },
          "metadata": {},
          "execution_count": 32
        }
      ]
    },
    {
      "cell_type": "markdown",
      "source": [
        "## Contador"
      ],
      "metadata": {
        "id": "Gh5SUVoFvp4H"
      }
    },
    {
      "cell_type": "code",
      "source": [
        "num = 42\n",
        "print(num)\n"
      ],
      "metadata": {
        "colab": {
          "base_uri": "https://localhost:8080/"
        },
        "id": "jY8MxROsvlSA",
        "outputId": "4af7bbd4-191a-49f6-8d59-8b423c9389c5"
      },
      "execution_count": null,
      "outputs": [
        {
          "output_type": "stream",
          "name": "stdout",
          "text": [
            "42\n"
          ]
        }
      ]
    },
    {
      "cell_type": "code",
      "source": [
        "num+1"
      ],
      "metadata": {
        "colab": {
          "base_uri": "https://localhost:8080/"
        },
        "id": "naRGaRPX0lQm",
        "outputId": "f316ddd6-2479-428f-82c5-240bea61063f"
      },
      "execution_count": null,
      "outputs": [
        {
          "output_type": "execute_result",
          "data": {
            "text/plain": [
              "43"
            ]
          },
          "metadata": {},
          "execution_count": 70
        }
      ]
    },
    {
      "cell_type": "code",
      "source": [
        "print(num+1)"
      ],
      "metadata": {
        "colab": {
          "base_uri": "https://localhost:8080/"
        },
        "id": "K6VrpCjk0mZG",
        "outputId": "89ddfb4d-c6bd-4e2a-88b8-cd6619dbb8b7"
      },
      "execution_count": null,
      "outputs": [
        {
          "output_type": "stream",
          "name": "stdout",
          "text": [
            "43\n"
          ]
        }
      ]
    },
    {
      "cell_type": "code",
      "source": [
        "num +=1\n",
        "num"
      ],
      "metadata": {
        "colab": {
          "base_uri": "https://localhost:8080/"
        },
        "id": "R5c70kZ803BZ",
        "outputId": "37033cae-4866-4dfc-a5ce-966530bfc441"
      },
      "execution_count": null,
      "outputs": [
        {
          "output_type": "execute_result",
          "data": {
            "text/plain": [
              "43"
            ]
          },
          "metadata": {},
          "execution_count": 72
        }
      ]
    },
    {
      "cell_type": "code",
      "source": [
        "num = num + 1\n",
        "num"
      ],
      "metadata": {
        "colab": {
          "base_uri": "https://localhost:8080/"
        },
        "id": "Rh7tnBty0_PV",
        "outputId": "4b9d040f-9f84-46b6-ed3f-c40ce5c3e00a"
      },
      "execution_count": null,
      "outputs": [
        {
          "output_type": "execute_result",
          "data": {
            "text/plain": [
              "44"
            ]
          },
          "metadata": {},
          "execution_count": 73
        }
      ]
    },
    {
      "cell_type": "code",
      "source": [
        " num *=2\n",
        " num"
      ],
      "metadata": {
        "colab": {
          "base_uri": "https://localhost:8080/"
        },
        "id": "TQGQZTPs1Hwy",
        "outputId": "88eec4ad-32ba-4060-8ec6-c9fc1d51c5d0"
      },
      "execution_count": null,
      "outputs": [
        {
          "output_type": "execute_result",
          "data": {
            "text/plain": [
              "88"
            ]
          },
          "metadata": {},
          "execution_count": 74
        }
      ]
    },
    {
      "cell_type": "code",
      "source": [
        "num /=2\n",
        "num"
      ],
      "metadata": {
        "colab": {
          "base_uri": "https://localhost:8080/"
        },
        "id": "br0EaJ3q2BJ2",
        "outputId": "5b85cbc6-6190-4a10-d043-d089e3b043c6"
      },
      "execution_count": null,
      "outputs": [
        {
          "output_type": "execute_result",
          "data": {
            "text/plain": [
              "44.0"
            ]
          },
          "metadata": {},
          "execution_count": 75
        }
      ]
    },
    {
      "cell_type": "code",
      "source": [
        "num.__add__(6)"
      ],
      "metadata": {
        "colab": {
          "base_uri": "https://localhost:8080/"
        },
        "id": "Moj90HZ42LrE",
        "outputId": "b4f38948-fc1a-441f-ba9b-0ee0cb2a4550"
      },
      "execution_count": null,
      "outputs": [
        {
          "output_type": "execute_result",
          "data": {
            "text/plain": [
              "50.0"
            ]
          },
          "metadata": {},
          "execution_count": 78
        }
      ]
    },
    {
      "cell_type": "markdown",
      "source": [
        "## Tio Booleano\n",
        "> verdadeiro ou falso\n",
        "\n",
        "* sempre com a inicial maiúscula\n",
        "\n"
      ],
      "metadata": {
        "id": "GaRgD8c76YB_"
      }
    },
    {
      "cell_type": "code",
      "source": [
        "ativo = False\n",
        "print(ativo)"
      ],
      "metadata": {
        "colab": {
          "base_uri": "https://localhost:8080/"
        },
        "id": "av6GpnHq3Nvt",
        "outputId": "7ee03d4e-9141-4e3d-e8d1-d48385a7c4ed"
      },
      "execution_count": null,
      "outputs": [
        {
          "output_type": "stream",
          "name": "stdout",
          "text": [
            "False\n"
          ]
        }
      ]
    },
    {
      "cell_type": "markdown",
      "source": [
        "Fazendo a negação:\n",
        "\n",
        "* Se o valor booleano for verdadeiro, o resultado será falso. \n",
        "\n",
        "* Se o for falso o resultado, o resultado será verdadeiro."
      ],
      "metadata": {
        "id": "Y_97GmYF68-a"
      }
    },
    {
      "cell_type": "code",
      "source": [
        "print(not ativo)"
      ],
      "metadata": {
        "colab": {
          "base_uri": "https://localhost:8080/"
        },
        "id": "lUtgMFAh6zlQ",
        "outputId": "769656d8-43f7-4765-ae58-f1464fa69514"
      },
      "execution_count": null,
      "outputs": [
        {
          "output_type": "stream",
          "name": "stdout",
          "text": [
            "True\n"
          ]
        }
      ]
    },
    {
      "cell_type": "markdown",
      "source": [
        "Or (ou): ou um ou outro deve ser verdadeiro"
      ],
      "metadata": {
        "id": "AbaBIDyS7a_P"
      }
    },
    {
      "cell_type": "code",
      "source": [
        "True or True"
      ],
      "metadata": {
        "colab": {
          "base_uri": "https://localhost:8080/"
        },
        "id": "Fe22ZcNQ652E",
        "outputId": "87bac21b-058d-477b-bf94-97f603231626"
      },
      "execution_count": null,
      "outputs": [
        {
          "output_type": "execute_result",
          "data": {
            "text/plain": [
              "True"
            ]
          },
          "metadata": {},
          "execution_count": 87
        }
      ]
    },
    {
      "cell_type": "code",
      "source": [
        "True or False"
      ],
      "metadata": {
        "colab": {
          "base_uri": "https://localhost:8080/"
        },
        "id": "56FVZA9W7pAv",
        "outputId": "06e96419-03f8-4889-c8da-cae36b6d4135"
      },
      "execution_count": null,
      "outputs": [
        {
          "output_type": "execute_result",
          "data": {
            "text/plain": [
              "True"
            ]
          },
          "metadata": {},
          "execution_count": 88
        }
      ]
    },
    {
      "cell_type": "code",
      "source": [
        "False or False"
      ],
      "metadata": {
        "colab": {
          "base_uri": "https://localhost:8080/"
        },
        "id": "UoZ21wMb7sCY",
        "outputId": "9b772d5a-70c9-4940-edb1-dcd4c8a8c5d2"
      },
      "execution_count": null,
      "outputs": [
        {
          "output_type": "execute_result",
          "data": {
            "text/plain": [
              "False"
            ]
          },
          "metadata": {},
          "execution_count": 89
        }
      ]
    },
    {
      "cell_type": "markdown",
      "source": [
        "E: ambos valores devem ser verdadeiros"
      ],
      "metadata": {
        "id": "FYU_5Tqg8kzS"
      }
    },
    {
      "cell_type": "code",
      "source": [
        "num1=2\n",
        "num2=4\n",
        "\n",
        "num1<num2"
      ],
      "metadata": {
        "colab": {
          "base_uri": "https://localhost:8080/"
        },
        "id": "zXC8nos58B-Y",
        "outputId": "99936e93-f2cd-4b75-8c9f-778d597e046e"
      },
      "execution_count": null,
      "outputs": [
        {
          "output_type": "execute_result",
          "data": {
            "text/plain": [
              "True"
            ]
          },
          "metadata": {},
          "execution_count": 101
        }
      ]
    },
    {
      "cell_type": "markdown",
      "source": [
        "Split: transforma em uma listade strins"
      ],
      "metadata": {
        "id": "iQfa8j989p6w"
      }
    },
    {
      "cell_type": "code",
      "source": [
        "nome='Helen Karen'\n",
        "print(nome.split())"
      ],
      "metadata": {
        "colab": {
          "base_uri": "https://localhost:8080/"
        },
        "id": "hMTf8ZhW89x7",
        "outputId": "82e9898a-5aeb-4343-9e7a-aa9f34413a8b"
      },
      "execution_count": null,
      "outputs": [
        {
          "output_type": "stream",
          "name": "stdout",
          "text": [
            "['Helen', 'Karen']\n"
          ]
        }
      ]
    },
    {
      "cell_type": "code",
      "source": [
        "print(nome[5:10]) #slice de string"
      ],
      "metadata": {
        "colab": {
          "base_uri": "https://localhost:8080/"
        },
        "id": "uc1RoYCQ9ZkM",
        "outputId": "545ffb54-b4d0-407f-ef88-130ebc88edaa"
      },
      "execution_count": null,
      "outputs": [
        {
          "output_type": "stream",
          "name": "stdout",
          "text": [
            " Kare\n"
          ]
        }
      ]
    },
    {
      "cell_type": "code",
      "source": [
        "print(nome.split()[0])"
      ],
      "metadata": {
        "colab": {
          "base_uri": "https://localhost:8080/"
        },
        "id": "weqgTVPF-C_S",
        "outputId": "edc2a08a-4c5f-48dd-ba98-ecbbf947c9f8"
      },
      "execution_count": null,
      "outputs": [
        {
          "output_type": "stream",
          "name": "stdout",
          "text": [
            "Helen\n"
          ]
        }
      ]
    },
    {
      "cell_type": "code",
      "source": [
        "print(nome[::-1])"
      ],
      "metadata": {
        "colab": {
          "base_uri": "https://localhost:8080/"
        },
        "id": "VrwzyRGf-Wjj",
        "outputId": "e38ea479-0d61-4ee9-f66d-a0abacd5c8d8"
      },
      "execution_count": null,
      "outputs": [
        {
          "output_type": "stream",
          "name": "stdout",
          "text": [
            "neraK neleH\n"
          ]
        }
      ]
    },
    {
      "cell_type": "code",
      "source": [
        "dir(nome)"
      ],
      "metadata": {
        "colab": {
          "base_uri": "https://localhost:8080/"
        },
        "id": "NlLi-rvC-mBH",
        "outputId": "3c2ad5ca-d711-41ab-b4e0-4d0ed6b26b63"
      },
      "execution_count": null,
      "outputs": [
        {
          "output_type": "execute_result",
          "data": {
            "text/plain": [
              "['__add__',\n",
              " '__class__',\n",
              " '__contains__',\n",
              " '__delattr__',\n",
              " '__dir__',\n",
              " '__doc__',\n",
              " '__eq__',\n",
              " '__format__',\n",
              " '__ge__',\n",
              " '__getattribute__',\n",
              " '__getitem__',\n",
              " '__getnewargs__',\n",
              " '__gt__',\n",
              " '__hash__',\n",
              " '__init__',\n",
              " '__init_subclass__',\n",
              " '__iter__',\n",
              " '__le__',\n",
              " '__len__',\n",
              " '__lt__',\n",
              " '__mod__',\n",
              " '__mul__',\n",
              " '__ne__',\n",
              " '__new__',\n",
              " '__reduce__',\n",
              " '__reduce_ex__',\n",
              " '__repr__',\n",
              " '__rmod__',\n",
              " '__rmul__',\n",
              " '__setattr__',\n",
              " '__sizeof__',\n",
              " '__str__',\n",
              " '__subclasshook__',\n",
              " 'capitalize',\n",
              " 'casefold',\n",
              " 'center',\n",
              " 'count',\n",
              " 'encode',\n",
              " 'endswith',\n",
              " 'expandtabs',\n",
              " 'find',\n",
              " 'format',\n",
              " 'format_map',\n",
              " 'index',\n",
              " 'isalnum',\n",
              " 'isalpha',\n",
              " 'isascii',\n",
              " 'isdecimal',\n",
              " 'isdigit',\n",
              " 'isidentifier',\n",
              " 'islower',\n",
              " 'isnumeric',\n",
              " 'isprintable',\n",
              " 'isspace',\n",
              " 'istitle',\n",
              " 'isupper',\n",
              " 'join',\n",
              " 'ljust',\n",
              " 'lower',\n",
              " 'lstrip',\n",
              " 'maketrans',\n",
              " 'partition',\n",
              " 'replace',\n",
              " 'rfind',\n",
              " 'rindex',\n",
              " 'rjust',\n",
              " 'rpartition',\n",
              " 'rsplit',\n",
              " 'rstrip',\n",
              " 'split',\n",
              " 'splitlines',\n",
              " 'startswith',\n",
              " 'strip',\n",
              " 'swapcase',\n",
              " 'title',\n",
              " 'translate',\n",
              " 'upper',\n",
              " 'zfill']"
            ]
          },
          "metadata": {},
          "execution_count": 111
        }
      ]
    },
    {
      "cell_type": "code",
      "source": [
        "print(nome.replace('e','p'))"
      ],
      "metadata": {
        "colab": {
          "base_uri": "https://localhost:8080/"
        },
        "id": "ZOu9PwMG-wbW",
        "outputId": "cb5bc7e4-c1c4-49d9-9a88-074e021edaa3"
      },
      "execution_count": null,
      "outputs": [
        {
          "output_type": "stream",
          "name": "stdout",
          "text": [
            "Hplpn Karpn\n"
          ]
        }
      ]
    },
    {
      "cell_type": "code",
      "source": [
        "numero=10\n",
        "print(type(numero))"
      ],
      "metadata": {
        "colab": {
          "base_uri": "https://localhost:8080/"
        },
        "id": "YaXKI-ZB_LDX",
        "outputId": "819fa180-3e14-431f-f466-d9f6ac0ca643"
      },
      "execution_count": null,
      "outputs": [
        {
          "output_type": "stream",
          "name": "stdout",
          "text": [
            "<class 'int'>\n"
          ]
        }
      ]
    },
    {
      "cell_type": "code",
      "source": [
        ""
      ],
      "metadata": {
        "id": "7jRs-Yfc_MkG"
      },
      "execution_count": null,
      "outputs": []
    }
  ]
}