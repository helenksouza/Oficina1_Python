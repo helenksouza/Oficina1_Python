{
  "nbformat": 4,
  "nbformat_minor": 0,
  "metadata": {
    "colab": {
      "name": "Estrutura_Condicional.ipynb",
      "provenance": [],
      "authorship_tag": "ABX9TyN2IleETKT02CK4rUp6/AfA",
      "include_colab_link": true
    },
    "kernelspec": {
      "name": "python3",
      "display_name": "Python 3"
    },
    "language_info": {
      "name": "python"
    }
  },
  "cells": [
    {
      "cell_type": "markdown",
      "metadata": {
        "id": "view-in-github",
        "colab_type": "text"
      },
      "source": [
        "<a href=\"https://colab.research.google.com/github/helenksouza/Oficina1_Python/blob/main/Estrutura_Condicional.ipynb\" target=\"_parent\"><img src=\"https://colab.research.google.com/assets/colab-badge.svg\" alt=\"Open In Colab\"/></a>"
      ]
    },
    {
      "cell_type": "markdown",
      "source": [
        "Estruturas condicionais: if, else, elif."
      ],
      "metadata": {
        "id": "wRyXe_GAkOlu"
      }
    },
    {
      "cell_type": "code",
      "source": [
        "idade = 45\n",
        "\n",
        "if idade <10:\n",
        "  print('menor de idade')\n",
        "  \n",
        "else:\n",
        "  print('idade maior que 45')    \n",
        "\n"
      ],
      "metadata": {
        "id": "-7nNUeQYlOn9",
        "colab": {
          "base_uri": "https://localhost:8080/"
        },
        "outputId": "c96eafb4-ee93-4344-d79d-ecc9a36d0fff"
      },
      "execution_count": 2,
      "outputs": [
        {
          "output_type": "stream",
          "name": "stdout",
          "text": [
            "idade maior que 45\n"
          ]
        }
      ]
    },
    {
      "cell_type": "code",
      "source": [
        "idade = int(input('Insira a idade desejada: '))\n",
        "\n",
        "if idade <10:\n",
        "  print('menor de idade')\n",
        "\n",
        "elif idade ==  18:\n",
        "  print('maior idade')\n",
        "  \n",
        "else:\n",
        "  print('adulto maior de 18 anos')    "
      ],
      "metadata": {
        "id": "QNzTf1u_vZSP",
        "colab": {
          "base_uri": "https://localhost:8080/"
        },
        "outputId": "2a7ae2c6-fafb-4d7d-b550-ac8f0256a365"
      },
      "execution_count": 10,
      "outputs": [
        {
          "output_type": "stream",
          "name": "stdout",
          "text": [
            "Insira a idade desejada: 4\n",
            "menor de idade\n"
          ]
        }
      ]
    },
    {
      "cell_type": "markdown",
      "source": [
        "* Operadores Unários: And, not\n",
        "\n",
        "* Operadores binários: or , is"
      ],
      "metadata": {
        "id": "j7JeauwoLunQ"
      }
    },
    {
      "cell_type": "code",
      "source": [
        "ativo = True\n",
        "logado = True\n",
        "\n",
        "if ativo and logado:\n",
        "  print( 'Bem vindo, usuário')\n",
        "\n",
        "else:\n",
        "  print('Você precisa ativar sua conta')  \n"
      ],
      "metadata": {
        "colab": {
          "base_uri": "https://localhost:8080/"
        },
        "id": "UDFTOcpBK7NI",
        "outputId": "af073c1b-782f-4928-fd37-b8017b2be894"
      },
      "execution_count": 13,
      "outputs": [
        {
          "output_type": "stream",
          "name": "stdout",
          "text": [
            "Bem vindo, usuário\n"
          ]
        }
      ]
    },
    {
      "cell_type": "code",
      "source": [
        "ativo = True\n",
        "logado = True\n",
        "\n",
        "if ativo or logado:\n",
        "  print( 'Bem vindo, usuário')\n",
        "\n",
        "else:\n",
        "  print('Você precisa ativar sua conta')  "
      ],
      "metadata": {
        "colab": {
          "base_uri": "https://localhost:8080/"
        },
        "id": "lYZYN-6PMQrh",
        "outputId": "8bbf2c7f-ed98-4bf8-bc8f-e877b134ba95"
      },
      "execution_count": 14,
      "outputs": [
        {
          "output_type": "stream",
          "name": "stdout",
          "text": [
            "Bem vindo, usuário\n"
          ]
        }
      ]
    },
    {
      "cell_type": "markdown",
      "source": [
        "Fazendo a negação:\n",
        "\n",
        "Se o valor booleano for verdadeiro, o resultado será falso.\n",
        "\n",
        "Se o for falso o resultado, o resultado será verdadeiro."
      ],
      "metadata": {
        "id": "H90LIyIbOGlG"
      }
    },
    {
      "cell_type": "code",
      "source": [
        "ativo = False\n",
        "logado = False\n",
        "\n",
        "if not ativo:\n",
        "  print('Ative sua conta')\n",
        "\n",
        "else:\n",
        "  print('Bem-vindx!')  "
      ],
      "metadata": {
        "colab": {
          "base_uri": "https://localhost:8080/"
        },
        "id": "g2cGUOOgM5VP",
        "outputId": "7dde663a-7a7e-40be-b264-aa019bdbc3f9"
      },
      "execution_count": 15,
      "outputs": [
        {
          "output_type": "stream",
          "name": "stdout",
          "text": [
            "Ative sua conta\n"
          ]
        }
      ]
    },
    {
      "cell_type": "code",
      "source": [
        "ativo = True\n",
        "logado = False\n",
        "\n",
        "#Se não estiver ativo\n",
        "if not ativo:\n",
        "  print('Ative sua conta')\n",
        "\n",
        "else:\n",
        "  print('Bem-vindx!')  "
      ],
      "metadata": {
        "colab": {
          "base_uri": "https://localhost:8080/"
        },
        "id": "vTszwsWDOiZ4",
        "outputId": "4bc274eb-ab45-43b9-cc6e-c1602a4363b8"
      },
      "execution_count": 16,
      "outputs": [
        {
          "output_type": "stream",
          "name": "stdout",
          "text": [
            "Bem-vindx!\n"
          ]
        }
      ]
    },
    {
      "cell_type": "code",
      "source": [
        "print(ativo is True)"
      ],
      "metadata": {
        "colab": {
          "base_uri": "https://localhost:8080/"
        },
        "id": "dfEGOVwbiLkk",
        "outputId": "9226ee3b-7bb9-487e-b76c-78cbdb68d0ca"
      },
      "execution_count": 17,
      "outputs": [
        {
          "output_type": "stream",
          "name": "stdout",
          "text": [
            "True\n"
          ]
        }
      ]
    },
    {
      "cell_type": "code",
      "source": [
        "nome='Helen'"
      ],
      "metadata": {
        "id": "BNmHEKXZiNgP"
      },
      "execution_count": 18,
      "outputs": []
    },
    {
      "cell_type": "code",
      "source": [
        "nome.istitle()"
      ],
      "metadata": {
        "colab": {
          "base_uri": "https://localhost:8080/"
        },
        "id": "CKMZjxKHiVEG",
        "outputId": "e9c253fa-aa06-4938-86c4-cc078baa5b38"
      },
      "execution_count": 19,
      "outputs": [
        {
          "output_type": "execute_result",
          "data": {
            "text/plain": [
              "True"
            ]
          },
          "metadata": {},
          "execution_count": 19
        }
      ]
    },
    {
      "cell_type": "code",
      "source": [
        "1==1"
      ],
      "metadata": {
        "colab": {
          "base_uri": "https://localhost:8080/"
        },
        "id": "-B2HfhneiYWA",
        "outputId": "bbd36ffa-d8d6-464a-c7db-d04805e43f96"
      },
      "execution_count": 20,
      "outputs": [
        {
          "output_type": "execute_result",
          "data": {
            "text/plain": [
              "True"
            ]
          },
          "metadata": {},
          "execution_count": 20
        }
      ]
    },
    {
      "cell_type": "code",
      "source": [
        "1 is 2"
      ],
      "metadata": {
        "colab": {
          "base_uri": "https://localhost:8080/"
        },
        "id": "fZ_jchOIiee_",
        "outputId": "7ff2e3a3-8475-425e-cf79-9fcc5c47e97b"
      },
      "execution_count": 21,
      "outputs": [
        {
          "output_type": "execute_result",
          "data": {
            "text/plain": [
              "False"
            ]
          },
          "metadata": {},
          "execution_count": 21
        }
      ]
    },
    {
      "cell_type": "code",
      "source": [
        "1+2 is 3"
      ],
      "metadata": {
        "colab": {
          "base_uri": "https://localhost:8080/"
        },
        "id": "RPWJQHJLifkp",
        "outputId": "1240dd85-2e1c-4000-b75e-0bfbaa1027b1"
      },
      "execution_count": 22,
      "outputs": [
        {
          "output_type": "execute_result",
          "data": {
            "text/plain": [
              "True"
            ]
          },
          "metadata": {},
          "execution_count": 22
        }
      ]
    },
    {
      "cell_type": "code",
      "source": [
        ""
      ],
      "metadata": {
        "id": "VRcwCkzYigk5"
      },
      "execution_count": null,
      "outputs": []
    }
  ]
}